{
  "nbformat": 4,
  "nbformat_minor": 0,
  "metadata": {
    "colab": {
      "name": "Untitled0.ipynb",
      "provenance": [],
      "authorship_tag": "ABX9TyMiXXFpXQTpH0eENZRUbXX8",
      "include_colab_link": true
    },
    "kernelspec": {
      "name": "python3",
      "display_name": "Python 3"
    },
    "language_info": {
      "name": "python"
    }
  },
  "cells": [
    {
      "cell_type": "markdown",
      "metadata": {
        "id": "view-in-github",
        "colab_type": "text"
      },
      "source": [
        "<a href=\"https://colab.research.google.com/github/VibhuJ01/Perfect-Number/blob/main/Perfect%20Number.ipynb\" target=\"_parent\"><img src=\"https://colab.research.google.com/assets/colab-badge.svg\" alt=\"Open In Colab\"/></a>"
      ]
    },
    {
      "cell_type": "code",
      "execution_count": 1,
      "metadata": {
        "colab": {
          "base_uri": "https://localhost:8080/"
        },
        "id": "5Yror0jKLnAf",
        "outputId": "62172e4c-2f19-4c60-db7b-3833bd668a68"
      },
      "outputs": [
        {
          "output_type": "stream",
          "name": "stdout",
          "text": [
            "------------------------------------------\n",
            "Alola Malola\n",
            "\n",
            "1. Check for Perfect Number\n",
            "2. Print Perfect number in a given range\n",
            "3. End\n",
            "What do you want to do? 1\n",
            "------------------------------------------\n",
            "\n",
            "Enter Number: 496\n",
            "PerfectO\n",
            "\n",
            "------------------------------------------\n",
            "Alola Malola\n",
            "\n",
            "1. Check for Perfect Number\n",
            "2. Print Perfect number in a given range\n",
            "3. End\n",
            "What do you want to do? 1\n",
            "------------------------------------------\n",
            "\n",
            "Enter Number: 100\n",
            "Not Perfecto\n",
            "\n",
            "------------------------------------------\n",
            "Alola Malola\n",
            "\n",
            "1. Check for Perfect Number\n",
            "2. Print Perfect number in a given range\n",
            "3. End\n",
            "What do you want to do? 2\n",
            "------------------------------------------\n",
            "\n",
            "Enter Start: 1\n",
            "Enter End: 10000\n",
            "6\n",
            "28\n",
            "496\n",
            "8128\n",
            "\n",
            "------------------------------------------\n",
            "Alola Malola\n",
            "\n",
            "1. Check for Perfect Number\n",
            "2. Print Perfect number in a given range\n",
            "3. End\n",
            "What do you want to do? 3\n",
            "------------------------------------------\n",
            "\n",
            "Thank You\n",
            "\n"
          ]
        }
      ],
      "source": [
        "def perfect(num):\n",
        "    sum = 0\n",
        "    for i in range(1,num):\n",
        "        if(num%i == 0):\n",
        "            sum += i\n",
        "            \n",
        "    if(num == sum):\n",
        "        return \"PerfectO\\n\"\n",
        "\n",
        "    return \"Not Perfecto\\n\"\n",
        "\n",
        "def perfecto(a,b):\n",
        "    for i in range(a,b+1):\n",
        "        sum = 0\n",
        "        for j in range(1,i):\n",
        "            if(i%j == 0):\n",
        "                sum += j\n",
        "                \n",
        "        if(sum == i):\n",
        "            print(i)\n",
        "    print()\n",
        "    \n",
        "def main():\n",
        "    while(True):\n",
        "        print(\"------------------------------------------\")\n",
        "        print(\"Alola Malola\\n\")\n",
        "        print(\"1. Check for Perfect Number\")\n",
        "        print(\"2. Print Perfect number in a given range\")\n",
        "        print(\"3. End\")\n",
        "        ch = input(\"What do you want to do? \")\n",
        "        print(\"------------------------------------------\\n\")\n",
        "        \n",
        "        if(ch == \"1\"):\n",
        "            num = int(input(\"Enter Number: \"))\n",
        "            print(perfect(num))\n",
        "\n",
        "        elif(ch == \"2\"):\n",
        "            a = int(input(\"Enter Start: \"))\n",
        "            b = int(input(\"Enter End: \"))\n",
        "            perfecto(a,b)\n",
        "\n",
        "        elif(ch == \"3\"):\n",
        "            print(\"Thank You\\n\")\n",
        "            break\n",
        "        else:\n",
        "            print(\"Wrong Input\\n\")\n",
        "\n",
        "if __name__ == '__main__':\n",
        "    main()\n"
      ]
    }
  ]
}